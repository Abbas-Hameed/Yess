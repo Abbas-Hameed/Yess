{
  "nbformat": 4,
  "nbformat_minor": 0,
  "metadata": {
    "colab": {
      "name": "Ass1.ipynb",
      "provenance": [],
      "collapsed_sections": []
    },
    "kernelspec": {
      "name": "python3",
      "display_name": "Python 3"
    },
    "language_info": {
      "name": "python"
    }
  },
  "cells": [
    {
      "cell_type": "code",
      "execution_count": null,
      "metadata": {
        "colab": {
          "base_uri": "https://localhost:8080/"
        },
        "id": "_kCFxK0EQgx7",
        "outputId": "b77e3667-820c-4f75-98a5-a7ec8bd4839c"
      },
      "outputs": [
        {
          "output_type": "stream",
          "name": "stdout",
          "text": [
            "Mounted at /content/drive/\n"
          ]
        }
      ],
      "source": [
        "#import libraries\n",
        "import numpy as np\n",
        "import pandas as pd\n",
        "import matplotlib.pyplot as plt\n",
        "import seaborn as sns\n",
        " #WorldCupMatches new (1).csv\n",
        "\n",
        "from google.colab import drive\n",
        "drive.mount('/content/drive/')"
      ]
    },
    {
      "cell_type": "code",
      "source": [
        "import pandas as pd\n",
        "import numpy as np\n",
        "path=\"/content/drive/MyDrive/WorldCupMatches.csv\"\n",
        "dataset=pd.read_csv(path)\n",
        "print(dataset)"
      ],
      "metadata": {
        "colab": {
          "base_uri": "https://localhost:8080/"
        },
        "id": "0s3J-ly5SzBM",
        "outputId": "de7f71f6-3f40-4028-aca3-31aa63d02ab8"
      },
      "execution_count": 63,
      "outputs": [
        {
          "output_type": "stream",
          "name": "stdout",
          "text": [
            "     Year              Datetime                     Stage  \\\n",
            "0    1930  13 Jul 1930 - 15:00                    Group 1   \n",
            "1    1930  13 Jul 1930 - 15:00                    Group 4   \n",
            "2    1930  14 Jul 1930 - 12:45                    Group 2   \n",
            "3    1930  14 Jul 1930 - 14:50                    Group 3   \n",
            "4    1930  15 Jul 1930 - 16:00                    Group 1   \n",
            "..    ...                   ...                       ...   \n",
            "847  2014  05 Jul 2014 - 17:00             Quarter-finals   \n",
            "848  2014  08 Jul 2014 - 17:00                Semi-finals   \n",
            "849  2014  09 Jul 2014 - 17:00                Semi-finals   \n",
            "850  2014  12 Jul 2014 - 17:00   Play-off for third place   \n",
            "851  2014  13 Jul 2014 - 16:00                      Final   \n",
            "\n",
            "                 Stadium             City Home Team Name  Home Team Goals  \\\n",
            "0                Pocitos      Montevideo          France                4   \n",
            "1         Parque Central      Montevideo             USA                3   \n",
            "2         Parque Central      Montevideo      Yugoslavia                2   \n",
            "3                Pocitos      Montevideo         Romania                3   \n",
            "4         Parque Central      Montevideo       Argentina                1   \n",
            "..                   ...              ...            ...              ...   \n",
            "847     Arena Fonte Nova        Salvador     Netherlands                0   \n",
            "848     Estadio Mineirao  Belo Horizonte          Brazil                1   \n",
            "849   Arena de Sao Paulo       Sao Paulo     Netherlands                0   \n",
            "850     Estadio Nacional        Brasilia          Brazil                0   \n",
            "851  Estadio do Maracana  Rio De Janeiro         Germany                1   \n",
            "\n",
            "     Away Team Goals Away Team Name                         Win conditions  \\\n",
            "0                  1         Mexico                                          \n",
            "1                  0        Belgium                                          \n",
            "2                  1         Brazil                                          \n",
            "3                  1           Peru                                          \n",
            "4                  0         France                                          \n",
            "..               ...            ...                                    ...   \n",
            "847                0     Costa Rica  Netherlands win on penalties (4 - 3)    \n",
            "848                7        Germany                                          \n",
            "849                0      Argentina    Argentina win on penalties (2 - 4)    \n",
            "850                3    Netherlands                                          \n",
            "851                0      Argentina          Germany win after extra time    \n",
            "\n",
            "     Attendance  Half-time Home Goals  Half-time Away Goals  \\\n",
            "0        4444.0                     3                     0   \n",
            "1       18346.0                     2                     0   \n",
            "2       24059.0                     2                     0   \n",
            "3        2549.0                     1                     0   \n",
            "4       23409.0                     0                     0   \n",
            "..          ...                   ...                   ...   \n",
            "847     51179.0                     0                     0   \n",
            "848     58141.0                     0                     5   \n",
            "849     63267.0                     0                     0   \n",
            "850     68034.0                     0                     2   \n",
            "851     74738.0                     0                     0   \n",
            "\n",
            "                    Referee                  Assistant 1  \\\n",
            "0    LOMBARDI Domingo (URU)        CRISTOPHE Henry (BEL)   \n",
            "1         MACIAS Jose (ARG)     MATEUCCI Francisco (URU)   \n",
            "2       TEJADA Anibal (URU)      VALLARINO Ricardo (URU)   \n",
            "3     WARNKEN Alberto (CHI)          LANGENUS Jean (BEL)   \n",
            "4       REGO Gilberto (BRA)         SAUCEDO Ulises (BOL)   \n",
            "..                      ...                          ...   \n",
            "847   Ravshan IRMATOV (UZB)  RASULOV Abduxamidullo (UZB)   \n",
            "848   RODRIGUEZ Marco (MEX)      TORRENTERA Marvin (MEX)   \n",
            "849      C�neyt �AKIR (TUR)         DURAN Bahattin (TUR)   \n",
            "850   HAIMOUDI Djamel (ALG)         ACHIK Redouane (MAR)   \n",
            "851    Nicola RIZZOLI (ITA)        Renato FAVERANI (ITA)   \n",
            "\n",
            "                    Assistant 2  RoundID    MatchID Home Team Initials  \\\n",
            "0           REGO Gilberto (BRA)      201       1096                FRA   \n",
            "1         WARNKEN Alberto (CHI)      201       1090                USA   \n",
            "2           BALWAY Thomas (FRA)      201       1093                YUG   \n",
            "3      MATEUCCI Francisco (URU)      201       1098                ROU   \n",
            "4    RADULESCU Constantin (ROU)      201       1085                ARG   \n",
            "..                          ...      ...        ...                ...   \n",
            "847    KOCHKAROV Bakhadyr (KGZ)   255953  300186488                NED   \n",
            "848       QUINTERO Marcos (MEX)   255955  300186474                BRA   \n",
            "849           ONGUN Tarik (TUR)   255955  300186490                NED   \n",
            "850     ETCHIALI Abdelhak (ALG)   255957  300186502                BRA   \n",
            "851        Andrea STEFANI (ITA)   255959  300186501                GER   \n",
            "\n",
            "    Away Team Initials  \n",
            "0                  MEX  \n",
            "1                  BEL  \n",
            "2                  BRA  \n",
            "3                  PER  \n",
            "4                  FRA  \n",
            "..                 ...  \n",
            "847                CRC  \n",
            "848                GER  \n",
            "849                ARG  \n",
            "850                NED  \n",
            "851                ARG  \n",
            "\n",
            "[852 rows x 20 columns]\n"
          ]
        }
      ]
    },
    {
      "cell_type": "code",
      "source": [
        "#import pandas as pd\n",
        "#import numpy as np\n",
        "path=\"/content/drive/MyDrive/WorldCupMatches.csv\"\n",
        "dataset = pd.read_csv(path)\n",
        "\n",
        "\n",
        "\n",
        "dataset.head()\n"
      ],
      "metadata": {
        "colab": {
          "base_uri": "https://localhost:8080/",
          "height": 489
        },
        "id": "LC0V9HdFUy0d",
        "outputId": "f8586c9c-5c67-4447-fe04-f2c94802ecb2"
      },
      "execution_count": null,
      "outputs": [
        {
          "output_type": "execute_result",
          "data": {
            "text/plain": [
              "   Year              Datetime    Stage         Stadium         City  \\\n",
              "0  1930  13 Jul 1930 - 15:00   Group 1         Pocitos  Montevideo    \n",
              "1  1930  13 Jul 1930 - 15:00   Group 4  Parque Central  Montevideo    \n",
              "2  1930  14 Jul 1930 - 12:45   Group 2  Parque Central  Montevideo    \n",
              "3  1930  14 Jul 1930 - 14:50   Group 3         Pocitos  Montevideo    \n",
              "4  1930  15 Jul 1930 - 16:00   Group 1  Parque Central  Montevideo    \n",
              "\n",
              "  Home Team Name  Home Team Goals  Away Team Goals Away Team Name  \\\n",
              "0         France                4                1         Mexico   \n",
              "1            USA                3                0        Belgium   \n",
              "2     Yugoslavia                2                1         Brazil   \n",
              "3        Romania                3                1           Peru   \n",
              "4      Argentina                1                0         France   \n",
              "\n",
              "  Win conditions  Attendance  Half-time Home Goals  Half-time Away Goals  \\\n",
              "0                     4444.0                     3                     0   \n",
              "1                    18346.0                     2                     0   \n",
              "2                    24059.0                     2                     0   \n",
              "3                     2549.0                     1                     0   \n",
              "4                    23409.0                     0                     0   \n",
              "\n",
              "                  Referee               Assistant 1  \\\n",
              "0  LOMBARDI Domingo (URU)     CRISTOPHE Henry (BEL)   \n",
              "1       MACIAS Jose (ARG)  MATEUCCI Francisco (URU)   \n",
              "2     TEJADA Anibal (URU)   VALLARINO Ricardo (URU)   \n",
              "3   WARNKEN Alberto (CHI)       LANGENUS Jean (BEL)   \n",
              "4     REGO Gilberto (BRA)      SAUCEDO Ulises (BOL)   \n",
              "\n",
              "                  Assistant 2  RoundID  MatchID Home Team Initials  \\\n",
              "0         REGO Gilberto (BRA)      201     1096                FRA   \n",
              "1       WARNKEN Alberto (CHI)      201     1090                USA   \n",
              "2         BALWAY Thomas (FRA)      201     1093                YUG   \n",
              "3    MATEUCCI Francisco (URU)      201     1098                ROU   \n",
              "4  RADULESCU Constantin (ROU)      201     1085                ARG   \n",
              "\n",
              "  Away Team Initials  \n",
              "0                MEX  \n",
              "1                BEL  \n",
              "2                BRA  \n",
              "3                PER  \n",
              "4                FRA  "
            ],
            "text/html": [
              "\n",
              "  <div id=\"df-0e888fa5-6240-46af-9a7d-45e549c987bb\">\n",
              "    <div class=\"colab-df-container\">\n",
              "      <div>\n",
              "<style scoped>\n",
              "    .dataframe tbody tr th:only-of-type {\n",
              "        vertical-align: middle;\n",
              "    }\n",
              "\n",
              "    .dataframe tbody tr th {\n",
              "        vertical-align: top;\n",
              "    }\n",
              "\n",
              "    .dataframe thead th {\n",
              "        text-align: right;\n",
              "    }\n",
              "</style>\n",
              "<table border=\"1\" class=\"dataframe\">\n",
              "  <thead>\n",
              "    <tr style=\"text-align: right;\">\n",
              "      <th></th>\n",
              "      <th>Year</th>\n",
              "      <th>Datetime</th>\n",
              "      <th>Stage</th>\n",
              "      <th>Stadium</th>\n",
              "      <th>City</th>\n",
              "      <th>Home Team Name</th>\n",
              "      <th>Home Team Goals</th>\n",
              "      <th>Away Team Goals</th>\n",
              "      <th>Away Team Name</th>\n",
              "      <th>Win conditions</th>\n",
              "      <th>Attendance</th>\n",
              "      <th>Half-time Home Goals</th>\n",
              "      <th>Half-time Away Goals</th>\n",
              "      <th>Referee</th>\n",
              "      <th>Assistant 1</th>\n",
              "      <th>Assistant 2</th>\n",
              "      <th>RoundID</th>\n",
              "      <th>MatchID</th>\n",
              "      <th>Home Team Initials</th>\n",
              "      <th>Away Team Initials</th>\n",
              "    </tr>\n",
              "  </thead>\n",
              "  <tbody>\n",
              "    <tr>\n",
              "      <th>0</th>\n",
              "      <td>1930</td>\n",
              "      <td>13 Jul 1930 - 15:00</td>\n",
              "      <td>Group 1</td>\n",
              "      <td>Pocitos</td>\n",
              "      <td>Montevideo</td>\n",
              "      <td>France</td>\n",
              "      <td>4</td>\n",
              "      <td>1</td>\n",
              "      <td>Mexico</td>\n",
              "      <td></td>\n",
              "      <td>4444.0</td>\n",
              "      <td>3</td>\n",
              "      <td>0</td>\n",
              "      <td>LOMBARDI Domingo (URU)</td>\n",
              "      <td>CRISTOPHE Henry (BEL)</td>\n",
              "      <td>REGO Gilberto (BRA)</td>\n",
              "      <td>201</td>\n",
              "      <td>1096</td>\n",
              "      <td>FRA</td>\n",
              "      <td>MEX</td>\n",
              "    </tr>\n",
              "    <tr>\n",
              "      <th>1</th>\n",
              "      <td>1930</td>\n",
              "      <td>13 Jul 1930 - 15:00</td>\n",
              "      <td>Group 4</td>\n",
              "      <td>Parque Central</td>\n",
              "      <td>Montevideo</td>\n",
              "      <td>USA</td>\n",
              "      <td>3</td>\n",
              "      <td>0</td>\n",
              "      <td>Belgium</td>\n",
              "      <td></td>\n",
              "      <td>18346.0</td>\n",
              "      <td>2</td>\n",
              "      <td>0</td>\n",
              "      <td>MACIAS Jose (ARG)</td>\n",
              "      <td>MATEUCCI Francisco (URU)</td>\n",
              "      <td>WARNKEN Alberto (CHI)</td>\n",
              "      <td>201</td>\n",
              "      <td>1090</td>\n",
              "      <td>USA</td>\n",
              "      <td>BEL</td>\n",
              "    </tr>\n",
              "    <tr>\n",
              "      <th>2</th>\n",
              "      <td>1930</td>\n",
              "      <td>14 Jul 1930 - 12:45</td>\n",
              "      <td>Group 2</td>\n",
              "      <td>Parque Central</td>\n",
              "      <td>Montevideo</td>\n",
              "      <td>Yugoslavia</td>\n",
              "      <td>2</td>\n",
              "      <td>1</td>\n",
              "      <td>Brazil</td>\n",
              "      <td></td>\n",
              "      <td>24059.0</td>\n",
              "      <td>2</td>\n",
              "      <td>0</td>\n",
              "      <td>TEJADA Anibal (URU)</td>\n",
              "      <td>VALLARINO Ricardo (URU)</td>\n",
              "      <td>BALWAY Thomas (FRA)</td>\n",
              "      <td>201</td>\n",
              "      <td>1093</td>\n",
              "      <td>YUG</td>\n",
              "      <td>BRA</td>\n",
              "    </tr>\n",
              "    <tr>\n",
              "      <th>3</th>\n",
              "      <td>1930</td>\n",
              "      <td>14 Jul 1930 - 14:50</td>\n",
              "      <td>Group 3</td>\n",
              "      <td>Pocitos</td>\n",
              "      <td>Montevideo</td>\n",
              "      <td>Romania</td>\n",
              "      <td>3</td>\n",
              "      <td>1</td>\n",
              "      <td>Peru</td>\n",
              "      <td></td>\n",
              "      <td>2549.0</td>\n",
              "      <td>1</td>\n",
              "      <td>0</td>\n",
              "      <td>WARNKEN Alberto (CHI)</td>\n",
              "      <td>LANGENUS Jean (BEL)</td>\n",
              "      <td>MATEUCCI Francisco (URU)</td>\n",
              "      <td>201</td>\n",
              "      <td>1098</td>\n",
              "      <td>ROU</td>\n",
              "      <td>PER</td>\n",
              "    </tr>\n",
              "    <tr>\n",
              "      <th>4</th>\n",
              "      <td>1930</td>\n",
              "      <td>15 Jul 1930 - 16:00</td>\n",
              "      <td>Group 1</td>\n",
              "      <td>Parque Central</td>\n",
              "      <td>Montevideo</td>\n",
              "      <td>Argentina</td>\n",
              "      <td>1</td>\n",
              "      <td>0</td>\n",
              "      <td>France</td>\n",
              "      <td></td>\n",
              "      <td>23409.0</td>\n",
              "      <td>0</td>\n",
              "      <td>0</td>\n",
              "      <td>REGO Gilberto (BRA)</td>\n",
              "      <td>SAUCEDO Ulises (BOL)</td>\n",
              "      <td>RADULESCU Constantin (ROU)</td>\n",
              "      <td>201</td>\n",
              "      <td>1085</td>\n",
              "      <td>ARG</td>\n",
              "      <td>FRA</td>\n",
              "    </tr>\n",
              "  </tbody>\n",
              "</table>\n",
              "</div>\n",
              "      <button class=\"colab-df-convert\" onclick=\"convertToInteractive('df-0e888fa5-6240-46af-9a7d-45e549c987bb')\"\n",
              "              title=\"Convert this dataframe to an interactive table.\"\n",
              "              style=\"display:none;\">\n",
              "        \n",
              "  <svg xmlns=\"http://www.w3.org/2000/svg\" height=\"24px\"viewBox=\"0 0 24 24\"\n",
              "       width=\"24px\">\n",
              "    <path d=\"M0 0h24v24H0V0z\" fill=\"none\"/>\n",
              "    <path d=\"M18.56 5.44l.94 2.06.94-2.06 2.06-.94-2.06-.94-.94-2.06-.94 2.06-2.06.94zm-11 1L8.5 8.5l.94-2.06 2.06-.94-2.06-.94L8.5 2.5l-.94 2.06-2.06.94zm10 10l.94 2.06.94-2.06 2.06-.94-2.06-.94-.94-2.06-.94 2.06-2.06.94z\"/><path d=\"M17.41 7.96l-1.37-1.37c-.4-.4-.92-.59-1.43-.59-.52 0-1.04.2-1.43.59L10.3 9.45l-7.72 7.72c-.78.78-.78 2.05 0 2.83L4 21.41c.39.39.9.59 1.41.59.51 0 1.02-.2 1.41-.59l7.78-7.78 2.81-2.81c.8-.78.8-2.07 0-2.86zM5.41 20L4 18.59l7.72-7.72 1.47 1.35L5.41 20z\"/>\n",
              "  </svg>\n",
              "      </button>\n",
              "      \n",
              "  <style>\n",
              "    .colab-df-container {\n",
              "      display:flex;\n",
              "      flex-wrap:wrap;\n",
              "      gap: 12px;\n",
              "    }\n",
              "\n",
              "    .colab-df-convert {\n",
              "      background-color: #E8F0FE;\n",
              "      border: none;\n",
              "      border-radius: 50%;\n",
              "      cursor: pointer;\n",
              "      display: none;\n",
              "      fill: #1967D2;\n",
              "      height: 32px;\n",
              "      padding: 0 0 0 0;\n",
              "      width: 32px;\n",
              "    }\n",
              "\n",
              "    .colab-df-convert:hover {\n",
              "      background-color: #E2EBFA;\n",
              "      box-shadow: 0px 1px 2px rgba(60, 64, 67, 0.3), 0px 1px 3px 1px rgba(60, 64, 67, 0.15);\n",
              "      fill: #174EA6;\n",
              "    }\n",
              "\n",
              "    [theme=dark] .colab-df-convert {\n",
              "      background-color: #3B4455;\n",
              "      fill: #D2E3FC;\n",
              "    }\n",
              "\n",
              "    [theme=dark] .colab-df-convert:hover {\n",
              "      background-color: #434B5C;\n",
              "      box-shadow: 0px 1px 3px 1px rgba(0, 0, 0, 0.15);\n",
              "      filter: drop-shadow(0px 1px 2px rgba(0, 0, 0, 0.3));\n",
              "      fill: #FFFFFF;\n",
              "    }\n",
              "  </style>\n",
              "\n",
              "      <script>\n",
              "        const buttonEl =\n",
              "          document.querySelector('#df-0e888fa5-6240-46af-9a7d-45e549c987bb button.colab-df-convert');\n",
              "        buttonEl.style.display =\n",
              "          google.colab.kernel.accessAllowed ? 'block' : 'none';\n",
              "\n",
              "        async function convertToInteractive(key) {\n",
              "          const element = document.querySelector('#df-0e888fa5-6240-46af-9a7d-45e549c987bb');\n",
              "          const dataTable =\n",
              "            await google.colab.kernel.invokeFunction('convertToInteractive',\n",
              "                                                     [key], {});\n",
              "          if (!dataTable) return;\n",
              "\n",
              "          const docLinkHtml = 'Like what you see? Visit the ' +\n",
              "            '<a target=\"_blank\" href=https://colab.research.google.com/notebooks/data_table.ipynb>data table notebook</a>'\n",
              "            + ' to learn more about interactive tables.';\n",
              "          element.innerHTML = '';\n",
              "          dataTable['output_type'] = 'display_data';\n",
              "          await google.colab.output.renderOutput(dataTable, element);\n",
              "          const docLink = document.createElement('div');\n",
              "          docLink.innerHTML = docLinkHtml;\n",
              "          element.appendChild(docLink);\n",
              "        }\n",
              "      </script>\n",
              "    </div>\n",
              "  </div>\n",
              "  "
            ]
          },
          "metadata": {},
          "execution_count": 11
        }
      ]
    },
    {
      "cell_type": "code",
      "source": [
        "dataset.shape"
      ],
      "metadata": {
        "colab": {
          "base_uri": "https://localhost:8080/"
        },
        "id": "UwPsC_8IVVL6",
        "outputId": "36e5dc27-a2cf-4834-d6ef-94145a7f57d9"
      },
      "execution_count": null,
      "outputs": [
        {
          "output_type": "execute_result",
          "data": {
            "text/plain": [
              "(852, 20)"
            ]
          },
          "metadata": {},
          "execution_count": 12
        }
      ]
    },
    {
      "cell_type": "code",
      "source": [
        "dataset=dataset.set_index('Datetime')"
      ],
      "metadata": {
        "id": "qCksZrmpZQcj"
      },
      "execution_count": null,
      "outputs": []
    },
    {
      "cell_type": "code",
      "source": [
        "dataset.columns"
      ],
      "metadata": {
        "colab": {
          "base_uri": "https://localhost:8080/"
        },
        "id": "dWIxNIL1Vt48",
        "outputId": "736b0a7f-ce14-4ce7-de1d-12f4b34d8d94"
      },
      "execution_count": null,
      "outputs": [
        {
          "output_type": "execute_result",
          "data": {
            "text/plain": [
              "Index(['Year', 'Stage', 'Stadium', 'City', 'Home Team Name', 'Home Team Goals',\n",
              "       'Away Team Goals', 'Away Team Name', 'Win conditions', 'Attendance',\n",
              "       'Half-time Home Goals', 'Half-time Away Goals', 'Referee',\n",
              "       'Assistant 1', 'Assistant 2', 'RoundID', 'MatchID',\n",
              "       'Home Team Initials', 'Away Team Initials'],\n",
              "      dtype='object')"
            ]
          },
          "metadata": {},
          "execution_count": 14
        }
      ]
    },
    {
      "cell_type": "code",
      "source": [
        "dataset.dtypes"
      ],
      "metadata": {
        "colab": {
          "base_uri": "https://localhost:8080/"
        },
        "id": "uBqlmnGHZjKC",
        "outputId": "31474ab3-8e5c-430f-e9f0-b0e215535c81"
      },
      "execution_count": null,
      "outputs": [
        {
          "output_type": "execute_result",
          "data": {
            "text/plain": [
              "Year                      int64\n",
              "Stage                    object\n",
              "Stadium                  object\n",
              "City                     object\n",
              "Home Team Name           object\n",
              "Home Team Goals           int64\n",
              "Away Team Goals           int64\n",
              "Away Team Name           object\n",
              "Win conditions           object\n",
              "Attendance              float64\n",
              "Half-time Home Goals      int64\n",
              "Half-time Away Goals      int64\n",
              "Referee                  object\n",
              "Assistant 1              object\n",
              "Assistant 2              object\n",
              "RoundID                   int64\n",
              "MatchID                   int64\n",
              "Home Team Initials       object\n",
              "Away Team Initials       object\n",
              "dtype: object"
            ]
          },
          "metadata": {},
          "execution_count": 15
        }
      ]
    },
    {
      "cell_type": "code",
      "source": [
        "# Slice the result for first 5 rows\n",
        "print (dataset[0:5]['City'])"
      ],
      "metadata": {
        "colab": {
          "base_uri": "https://localhost:8080/"
        },
        "id": "o2nddRMgZmu4",
        "outputId": "7fc923a5-1933-452c-9958-940295104670"
      },
      "execution_count": null,
      "outputs": [
        {
          "output_type": "stream",
          "name": "stdout",
          "text": [
            "Datetime\n",
            "13 Jul 1930 - 15:00     Montevideo \n",
            "13 Jul 1930 - 15:00     Montevideo \n",
            "14 Jul 1930 - 12:45     Montevideo \n",
            "14 Jul 1930 - 14:50     Montevideo \n",
            "15 Jul 1930 - 16:00     Montevideo \n",
            "Name: City, dtype: object\n"
          ]
        }
      ]
    },
    {
      "cell_type": "code",
      "source": [
        "# Reading Specific Columns\n",
        "print (dataset.loc[:,['Stadium','City']])"
      ],
      "metadata": {
        "colab": {
          "base_uri": "https://localhost:8080/"
        },
        "id": "0E5X6WalZsLf",
        "outputId": "4f94598e-371a-4cf2-c032-94dda5c984e4"
      },
      "execution_count": null,
      "outputs": [
        {
          "output_type": "stream",
          "name": "stdout",
          "text": [
            "                                  Stadium             City\n",
            "Datetime                                                  \n",
            "13 Jul 1930 - 15:00               Pocitos      Montevideo \n",
            "13 Jul 1930 - 15:00        Parque Central      Montevideo \n",
            "14 Jul 1930 - 12:45        Parque Central      Montevideo \n",
            "14 Jul 1930 - 14:50               Pocitos      Montevideo \n",
            "15 Jul 1930 - 16:00        Parque Central      Montevideo \n",
            "...                                   ...              ...\n",
            "05 Jul 2014 - 17:00      Arena Fonte Nova        Salvador \n",
            "08 Jul 2014 - 17:00      Estadio Mineirao  Belo Horizonte \n",
            "09 Jul 2014 - 17:00    Arena de Sao Paulo       Sao Paulo \n",
            "12 Jul 2014 - 17:00      Estadio Nacional        Brasilia \n",
            "13 Jul 2014 - 16:00   Estadio do Maracana  Rio De Janeiro \n",
            "\n",
            "[852 rows x 2 columns]\n"
          ]
        }
      ]
    },
    {
      "cell_type": "code",
      "source": [
        "#Reading Specific Columns and Rows\n",
        "#print (dataset.loc[1:6,['Stadium','City']])"
      ],
      "metadata": {
        "id": "vlAVNb1IEUCS"
      },
      "execution_count": null,
      "outputs": []
    },
    {
      "cell_type": "code",
      "source": [
        "#Reading Specific Columns and Rows\n",
        "#print (dataset.loc[[1,3,5],['Stadium','City']])"
      ],
      "metadata": {
        "id": "IR3PxFuFGGc4"
      },
      "execution_count": null,
      "outputs": []
    },
    {
      "cell_type": "code",
      "source": [
        "#showing all null values\n",
        "dataset.isnull() "
      ],
      "metadata": {
        "colab": {
          "base_uri": "https://localhost:8080/",
          "height": 905
        },
        "id": "5zJF1zD_Z3kz",
        "outputId": "32958bde-0ab6-46ad-ebd2-02a0a44bc69b"
      },
      "execution_count": null,
      "outputs": [
        {
          "output_type": "execute_result",
          "data": {
            "text/plain": [
              "                       Year  Stage  Stadium   City  Home Team Name  \\\n",
              "Datetime                                                             \n",
              "13 Jul 1930 - 15:00   False  False    False  False           False   \n",
              "13 Jul 1930 - 15:00   False  False    False  False           False   \n",
              "14 Jul 1930 - 12:45   False  False    False  False           False   \n",
              "14 Jul 1930 - 14:50   False  False    False  False           False   \n",
              "15 Jul 1930 - 16:00   False  False    False  False           False   \n",
              "...                     ...    ...      ...    ...             ...   \n",
              "05 Jul 2014 - 17:00   False  False    False  False           False   \n",
              "08 Jul 2014 - 17:00   False  False    False  False           False   \n",
              "09 Jul 2014 - 17:00   False  False    False  False           False   \n",
              "12 Jul 2014 - 17:00   False  False    False  False           False   \n",
              "13 Jul 2014 - 16:00   False  False    False  False           False   \n",
              "\n",
              "                      Home Team Goals  Away Team Goals  Away Team Name  \\\n",
              "Datetime                                                                 \n",
              "13 Jul 1930 - 15:00             False            False           False   \n",
              "13 Jul 1930 - 15:00             False            False           False   \n",
              "14 Jul 1930 - 12:45             False            False           False   \n",
              "14 Jul 1930 - 14:50             False            False           False   \n",
              "15 Jul 1930 - 16:00             False            False           False   \n",
              "...                               ...              ...             ...   \n",
              "05 Jul 2014 - 17:00             False            False           False   \n",
              "08 Jul 2014 - 17:00             False            False           False   \n",
              "09 Jul 2014 - 17:00             False            False           False   \n",
              "12 Jul 2014 - 17:00             False            False           False   \n",
              "13 Jul 2014 - 16:00             False            False           False   \n",
              "\n",
              "                      Win conditions  Attendance  Half-time Home Goals  \\\n",
              "Datetime                                                                 \n",
              "13 Jul 1930 - 15:00            False       False                 False   \n",
              "13 Jul 1930 - 15:00            False       False                 False   \n",
              "14 Jul 1930 - 12:45            False       False                 False   \n",
              "14 Jul 1930 - 14:50            False       False                 False   \n",
              "15 Jul 1930 - 16:00            False       False                 False   \n",
              "...                              ...         ...                   ...   \n",
              "05 Jul 2014 - 17:00            False       False                 False   \n",
              "08 Jul 2014 - 17:00            False       False                 False   \n",
              "09 Jul 2014 - 17:00            False       False                 False   \n",
              "12 Jul 2014 - 17:00            False       False                 False   \n",
              "13 Jul 2014 - 16:00            False       False                 False   \n",
              "\n",
              "                      Half-time Away Goals  Referee  Assistant 1  Assistant 2  \\\n",
              "Datetime                                                                        \n",
              "13 Jul 1930 - 15:00                  False    False        False        False   \n",
              "13 Jul 1930 - 15:00                  False    False        False        False   \n",
              "14 Jul 1930 - 12:45                  False    False        False        False   \n",
              "14 Jul 1930 - 14:50                  False    False        False        False   \n",
              "15 Jul 1930 - 16:00                  False    False        False        False   \n",
              "...                                    ...      ...          ...          ...   \n",
              "05 Jul 2014 - 17:00                  False    False        False        False   \n",
              "08 Jul 2014 - 17:00                  False    False        False        False   \n",
              "09 Jul 2014 - 17:00                  False    False        False        False   \n",
              "12 Jul 2014 - 17:00                  False    False        False        False   \n",
              "13 Jul 2014 - 16:00                  False    False        False        False   \n",
              "\n",
              "                      RoundID  MatchID  Home Team Initials  Away Team Initials  \n",
              "Datetime                                                                        \n",
              "13 Jul 1930 - 15:00     False    False               False               False  \n",
              "13 Jul 1930 - 15:00     False    False               False               False  \n",
              "14 Jul 1930 - 12:45     False    False               False               False  \n",
              "14 Jul 1930 - 14:50     False    False               False               False  \n",
              "15 Jul 1930 - 16:00     False    False               False               False  \n",
              "...                       ...      ...                 ...                 ...  \n",
              "05 Jul 2014 - 17:00     False    False               False               False  \n",
              "08 Jul 2014 - 17:00     False    False               False               False  \n",
              "09 Jul 2014 - 17:00     False    False               False               False  \n",
              "12 Jul 2014 - 17:00     False    False               False               False  \n",
              "13 Jul 2014 - 16:00     False    False               False               False  \n",
              "\n",
              "[850 rows x 19 columns]"
            ],
            "text/html": [
              "\n",
              "  <div id=\"df-1908f59e-03ab-4437-85b8-c2a63084820d\">\n",
              "    <div class=\"colab-df-container\">\n",
              "      <div>\n",
              "<style scoped>\n",
              "    .dataframe tbody tr th:only-of-type {\n",
              "        vertical-align: middle;\n",
              "    }\n",
              "\n",
              "    .dataframe tbody tr th {\n",
              "        vertical-align: top;\n",
              "    }\n",
              "\n",
              "    .dataframe thead th {\n",
              "        text-align: right;\n",
              "    }\n",
              "</style>\n",
              "<table border=\"1\" class=\"dataframe\">\n",
              "  <thead>\n",
              "    <tr style=\"text-align: right;\">\n",
              "      <th></th>\n",
              "      <th>Year</th>\n",
              "      <th>Stage</th>\n",
              "      <th>Stadium</th>\n",
              "      <th>City</th>\n",
              "      <th>Home Team Name</th>\n",
              "      <th>Home Team Goals</th>\n",
              "      <th>Away Team Goals</th>\n",
              "      <th>Away Team Name</th>\n",
              "      <th>Win conditions</th>\n",
              "      <th>Attendance</th>\n",
              "      <th>Half-time Home Goals</th>\n",
              "      <th>Half-time Away Goals</th>\n",
              "      <th>Referee</th>\n",
              "      <th>Assistant 1</th>\n",
              "      <th>Assistant 2</th>\n",
              "      <th>RoundID</th>\n",
              "      <th>MatchID</th>\n",
              "      <th>Home Team Initials</th>\n",
              "      <th>Away Team Initials</th>\n",
              "    </tr>\n",
              "    <tr>\n",
              "      <th>Datetime</th>\n",
              "      <th></th>\n",
              "      <th></th>\n",
              "      <th></th>\n",
              "      <th></th>\n",
              "      <th></th>\n",
              "      <th></th>\n",
              "      <th></th>\n",
              "      <th></th>\n",
              "      <th></th>\n",
              "      <th></th>\n",
              "      <th></th>\n",
              "      <th></th>\n",
              "      <th></th>\n",
              "      <th></th>\n",
              "      <th></th>\n",
              "      <th></th>\n",
              "      <th></th>\n",
              "      <th></th>\n",
              "      <th></th>\n",
              "    </tr>\n",
              "  </thead>\n",
              "  <tbody>\n",
              "    <tr>\n",
              "      <th>13 Jul 1930 - 15:00</th>\n",
              "      <td>False</td>\n",
              "      <td>False</td>\n",
              "      <td>False</td>\n",
              "      <td>False</td>\n",
              "      <td>False</td>\n",
              "      <td>False</td>\n",
              "      <td>False</td>\n",
              "      <td>False</td>\n",
              "      <td>False</td>\n",
              "      <td>False</td>\n",
              "      <td>False</td>\n",
              "      <td>False</td>\n",
              "      <td>False</td>\n",
              "      <td>False</td>\n",
              "      <td>False</td>\n",
              "      <td>False</td>\n",
              "      <td>False</td>\n",
              "      <td>False</td>\n",
              "      <td>False</td>\n",
              "    </tr>\n",
              "    <tr>\n",
              "      <th>13 Jul 1930 - 15:00</th>\n",
              "      <td>False</td>\n",
              "      <td>False</td>\n",
              "      <td>False</td>\n",
              "      <td>False</td>\n",
              "      <td>False</td>\n",
              "      <td>False</td>\n",
              "      <td>False</td>\n",
              "      <td>False</td>\n",
              "      <td>False</td>\n",
              "      <td>False</td>\n",
              "      <td>False</td>\n",
              "      <td>False</td>\n",
              "      <td>False</td>\n",
              "      <td>False</td>\n",
              "      <td>False</td>\n",
              "      <td>False</td>\n",
              "      <td>False</td>\n",
              "      <td>False</td>\n",
              "      <td>False</td>\n",
              "    </tr>\n",
              "    <tr>\n",
              "      <th>14 Jul 1930 - 12:45</th>\n",
              "      <td>False</td>\n",
              "      <td>False</td>\n",
              "      <td>False</td>\n",
              "      <td>False</td>\n",
              "      <td>False</td>\n",
              "      <td>False</td>\n",
              "      <td>False</td>\n",
              "      <td>False</td>\n",
              "      <td>False</td>\n",
              "      <td>False</td>\n",
              "      <td>False</td>\n",
              "      <td>False</td>\n",
              "      <td>False</td>\n",
              "      <td>False</td>\n",
              "      <td>False</td>\n",
              "      <td>False</td>\n",
              "      <td>False</td>\n",
              "      <td>False</td>\n",
              "      <td>False</td>\n",
              "    </tr>\n",
              "    <tr>\n",
              "      <th>14 Jul 1930 - 14:50</th>\n",
              "      <td>False</td>\n",
              "      <td>False</td>\n",
              "      <td>False</td>\n",
              "      <td>False</td>\n",
              "      <td>False</td>\n",
              "      <td>False</td>\n",
              "      <td>False</td>\n",
              "      <td>False</td>\n",
              "      <td>False</td>\n",
              "      <td>False</td>\n",
              "      <td>False</td>\n",
              "      <td>False</td>\n",
              "      <td>False</td>\n",
              "      <td>False</td>\n",
              "      <td>False</td>\n",
              "      <td>False</td>\n",
              "      <td>False</td>\n",
              "      <td>False</td>\n",
              "      <td>False</td>\n",
              "    </tr>\n",
              "    <tr>\n",
              "      <th>15 Jul 1930 - 16:00</th>\n",
              "      <td>False</td>\n",
              "      <td>False</td>\n",
              "      <td>False</td>\n",
              "      <td>False</td>\n",
              "      <td>False</td>\n",
              "      <td>False</td>\n",
              "      <td>False</td>\n",
              "      <td>False</td>\n",
              "      <td>False</td>\n",
              "      <td>False</td>\n",
              "      <td>False</td>\n",
              "      <td>False</td>\n",
              "      <td>False</td>\n",
              "      <td>False</td>\n",
              "      <td>False</td>\n",
              "      <td>False</td>\n",
              "      <td>False</td>\n",
              "      <td>False</td>\n",
              "      <td>False</td>\n",
              "    </tr>\n",
              "    <tr>\n",
              "      <th>...</th>\n",
              "      <td>...</td>\n",
              "      <td>...</td>\n",
              "      <td>...</td>\n",
              "      <td>...</td>\n",
              "      <td>...</td>\n",
              "      <td>...</td>\n",
              "      <td>...</td>\n",
              "      <td>...</td>\n",
              "      <td>...</td>\n",
              "      <td>...</td>\n",
              "      <td>...</td>\n",
              "      <td>...</td>\n",
              "      <td>...</td>\n",
              "      <td>...</td>\n",
              "      <td>...</td>\n",
              "      <td>...</td>\n",
              "      <td>...</td>\n",
              "      <td>...</td>\n",
              "      <td>...</td>\n",
              "    </tr>\n",
              "    <tr>\n",
              "      <th>05 Jul 2014 - 17:00</th>\n",
              "      <td>False</td>\n",
              "      <td>False</td>\n",
              "      <td>False</td>\n",
              "      <td>False</td>\n",
              "      <td>False</td>\n",
              "      <td>False</td>\n",
              "      <td>False</td>\n",
              "      <td>False</td>\n",
              "      <td>False</td>\n",
              "      <td>False</td>\n",
              "      <td>False</td>\n",
              "      <td>False</td>\n",
              "      <td>False</td>\n",
              "      <td>False</td>\n",
              "      <td>False</td>\n",
              "      <td>False</td>\n",
              "      <td>False</td>\n",
              "      <td>False</td>\n",
              "      <td>False</td>\n",
              "    </tr>\n",
              "    <tr>\n",
              "      <th>08 Jul 2014 - 17:00</th>\n",
              "      <td>False</td>\n",
              "      <td>False</td>\n",
              "      <td>False</td>\n",
              "      <td>False</td>\n",
              "      <td>False</td>\n",
              "      <td>False</td>\n",
              "      <td>False</td>\n",
              "      <td>False</td>\n",
              "      <td>False</td>\n",
              "      <td>False</td>\n",
              "      <td>False</td>\n",
              "      <td>False</td>\n",
              "      <td>False</td>\n",
              "      <td>False</td>\n",
              "      <td>False</td>\n",
              "      <td>False</td>\n",
              "      <td>False</td>\n",
              "      <td>False</td>\n",
              "      <td>False</td>\n",
              "    </tr>\n",
              "    <tr>\n",
              "      <th>09 Jul 2014 - 17:00</th>\n",
              "      <td>False</td>\n",
              "      <td>False</td>\n",
              "      <td>False</td>\n",
              "      <td>False</td>\n",
              "      <td>False</td>\n",
              "      <td>False</td>\n",
              "      <td>False</td>\n",
              "      <td>False</td>\n",
              "      <td>False</td>\n",
              "      <td>False</td>\n",
              "      <td>False</td>\n",
              "      <td>False</td>\n",
              "      <td>False</td>\n",
              "      <td>False</td>\n",
              "      <td>False</td>\n",
              "      <td>False</td>\n",
              "      <td>False</td>\n",
              "      <td>False</td>\n",
              "      <td>False</td>\n",
              "    </tr>\n",
              "    <tr>\n",
              "      <th>12 Jul 2014 - 17:00</th>\n",
              "      <td>False</td>\n",
              "      <td>False</td>\n",
              "      <td>False</td>\n",
              "      <td>False</td>\n",
              "      <td>False</td>\n",
              "      <td>False</td>\n",
              "      <td>False</td>\n",
              "      <td>False</td>\n",
              "      <td>False</td>\n",
              "      <td>False</td>\n",
              "      <td>False</td>\n",
              "      <td>False</td>\n",
              "      <td>False</td>\n",
              "      <td>False</td>\n",
              "      <td>False</td>\n",
              "      <td>False</td>\n",
              "      <td>False</td>\n",
              "      <td>False</td>\n",
              "      <td>False</td>\n",
              "    </tr>\n",
              "    <tr>\n",
              "      <th>13 Jul 2014 - 16:00</th>\n",
              "      <td>False</td>\n",
              "      <td>False</td>\n",
              "      <td>False</td>\n",
              "      <td>False</td>\n",
              "      <td>False</td>\n",
              "      <td>False</td>\n",
              "      <td>False</td>\n",
              "      <td>False</td>\n",
              "      <td>False</td>\n",
              "      <td>False</td>\n",
              "      <td>False</td>\n",
              "      <td>False</td>\n",
              "      <td>False</td>\n",
              "      <td>False</td>\n",
              "      <td>False</td>\n",
              "      <td>False</td>\n",
              "      <td>False</td>\n",
              "      <td>False</td>\n",
              "      <td>False</td>\n",
              "    </tr>\n",
              "  </tbody>\n",
              "</table>\n",
              "<p>850 rows × 19 columns</p>\n",
              "</div>\n",
              "      <button class=\"colab-df-convert\" onclick=\"convertToInteractive('df-1908f59e-03ab-4437-85b8-c2a63084820d')\"\n",
              "              title=\"Convert this dataframe to an interactive table.\"\n",
              "              style=\"display:none;\">\n",
              "        \n",
              "  <svg xmlns=\"http://www.w3.org/2000/svg\" height=\"24px\"viewBox=\"0 0 24 24\"\n",
              "       width=\"24px\">\n",
              "    <path d=\"M0 0h24v24H0V0z\" fill=\"none\"/>\n",
              "    <path d=\"M18.56 5.44l.94 2.06.94-2.06 2.06-.94-2.06-.94-.94-2.06-.94 2.06-2.06.94zm-11 1L8.5 8.5l.94-2.06 2.06-.94-2.06-.94L8.5 2.5l-.94 2.06-2.06.94zm10 10l.94 2.06.94-2.06 2.06-.94-2.06-.94-.94-2.06-.94 2.06-2.06.94z\"/><path d=\"M17.41 7.96l-1.37-1.37c-.4-.4-.92-.59-1.43-.59-.52 0-1.04.2-1.43.59L10.3 9.45l-7.72 7.72c-.78.78-.78 2.05 0 2.83L4 21.41c.39.39.9.59 1.41.59.51 0 1.02-.2 1.41-.59l7.78-7.78 2.81-2.81c.8-.78.8-2.07 0-2.86zM5.41 20L4 18.59l7.72-7.72 1.47 1.35L5.41 20z\"/>\n",
              "  </svg>\n",
              "      </button>\n",
              "      \n",
              "  <style>\n",
              "    .colab-df-container {\n",
              "      display:flex;\n",
              "      flex-wrap:wrap;\n",
              "      gap: 12px;\n",
              "    }\n",
              "\n",
              "    .colab-df-convert {\n",
              "      background-color: #E8F0FE;\n",
              "      border: none;\n",
              "      border-radius: 50%;\n",
              "      cursor: pointer;\n",
              "      display: none;\n",
              "      fill: #1967D2;\n",
              "      height: 32px;\n",
              "      padding: 0 0 0 0;\n",
              "      width: 32px;\n",
              "    }\n",
              "\n",
              "    .colab-df-convert:hover {\n",
              "      background-color: #E2EBFA;\n",
              "      box-shadow: 0px 1px 2px rgba(60, 64, 67, 0.3), 0px 1px 3px 1px rgba(60, 64, 67, 0.15);\n",
              "      fill: #174EA6;\n",
              "    }\n",
              "\n",
              "    [theme=dark] .colab-df-convert {\n",
              "      background-color: #3B4455;\n",
              "      fill: #D2E3FC;\n",
              "    }\n",
              "\n",
              "    [theme=dark] .colab-df-convert:hover {\n",
              "      background-color: #434B5C;\n",
              "      box-shadow: 0px 1px 3px 1px rgba(0, 0, 0, 0.15);\n",
              "      filter: drop-shadow(0px 1px 2px rgba(0, 0, 0, 0.3));\n",
              "      fill: #FFFFFF;\n",
              "    }\n",
              "  </style>\n",
              "\n",
              "      <script>\n",
              "        const buttonEl =\n",
              "          document.querySelector('#df-1908f59e-03ab-4437-85b8-c2a63084820d button.colab-df-convert');\n",
              "        buttonEl.style.display =\n",
              "          google.colab.kernel.accessAllowed ? 'block' : 'none';\n",
              "\n",
              "        async function convertToInteractive(key) {\n",
              "          const element = document.querySelector('#df-1908f59e-03ab-4437-85b8-c2a63084820d');\n",
              "          const dataTable =\n",
              "            await google.colab.kernel.invokeFunction('convertToInteractive',\n",
              "                                                     [key], {});\n",
              "          if (!dataTable) return;\n",
              "\n",
              "          const docLinkHtml = 'Like what you see? Visit the ' +\n",
              "            '<a target=\"_blank\" href=https://colab.research.google.com/notebooks/data_table.ipynb>data table notebook</a>'\n",
              "            + ' to learn more about interactive tables.';\n",
              "          element.innerHTML = '';\n",
              "          dataTable['output_type'] = 'display_data';\n",
              "          await google.colab.output.renderOutput(dataTable, element);\n",
              "          const docLink = document.createElement('div');\n",
              "          docLink.innerHTML = docLinkHtml;\n",
              "          element.appendChild(docLink);\n",
              "        }\n",
              "      </script>\n",
              "    </div>\n",
              "  </div>\n",
              "  "
            ]
          },
          "metadata": {},
          "execution_count": 29
        }
      ]
    },
    {
      "cell_type": "code",
      "source": [
        "dataset.isnull().values.any()"
      ],
      "metadata": {
        "colab": {
          "base_uri": "https://localhost:8080/"
        },
        "id": "pAB42sXZadS8",
        "outputId": "6b4c4cb1-876e-4b17-bc28-cd997c5a1dda"
      },
      "execution_count": null,
      "outputs": [
        {
          "output_type": "execute_result",
          "data": {
            "text/plain": [
              "True"
            ]
          },
          "metadata": {},
          "execution_count": 28
        }
      ]
    },
    {
      "cell_type": "code",
      "source": [
        "dataset.isnull().sum()"
      ],
      "metadata": {
        "colab": {
          "base_uri": "https://localhost:8080/"
        },
        "id": "3BZeQs_aagqa",
        "outputId": "e88258cd-89f8-48aa-e023-e88963eb8ffa"
      },
      "execution_count": null,
      "outputs": [
        {
          "output_type": "execute_result",
          "data": {
            "text/plain": [
              "Year                    0\n",
              "Stage                   0\n",
              "Stadium                 0\n",
              "City                    0\n",
              "Home Team Name          0\n",
              "Home Team Goals         0\n",
              "Away Team Goals         0\n",
              "Away Team Name          0\n",
              "Win conditions          0\n",
              "Attendance              0\n",
              "Half-time Home Goals    0\n",
              "Half-time Away Goals    0\n",
              "Referee                 0\n",
              "Assistant 1             0\n",
              "Assistant 2             0\n",
              "RoundID                 0\n",
              "MatchID                 0\n",
              "Home Team Initials      0\n",
              "Away Team Initials      0\n",
              "dtype: int64"
            ]
          },
          "metadata": {},
          "execution_count": 28
        }
      ]
    },
    {
      "cell_type": "code",
      "source": [
        "print(dataset['Attendance'].isnull())"
      ],
      "metadata": {
        "colab": {
          "base_uri": "https://localhost:8080/"
        },
        "id": "Ktf7V65aakbd",
        "outputId": "ead48314-1111-4fe9-8398-5d5e5225fb80"
      },
      "execution_count": null,
      "outputs": [
        {
          "output_type": "stream",
          "name": "stdout",
          "text": [
            "Datetime\n",
            "13 Jul 1930 - 15:00     False\n",
            "13 Jul 1930 - 15:00     False\n",
            "14 Jul 1930 - 12:45     False\n",
            "14 Jul 1930 - 14:50     False\n",
            "15 Jul 1930 - 16:00     False\n",
            "                        ...  \n",
            "05 Jul 2014 - 17:00     False\n",
            "08 Jul 2014 - 17:00     False\n",
            "09 Jul 2014 - 17:00     False\n",
            "12 Jul 2014 - 17:00     False\n",
            "13 Jul 2014 - 16:00     False\n",
            "Name: Attendance, Length: 850, dtype: bool\n"
          ]
        }
      ]
    },
    {
      "cell_type": "code",
      "source": [
        "# filling missing value using fillna()   \n",
        "dataset.fillna(0) "
      ],
      "metadata": {
        "colab": {
          "base_uri": "https://localhost:8080/",
          "height": 939
        },
        "id": "g2OWn-ijar9F",
        "outputId": "127c4ec7-cd16-477b-fa77-edfdf98b6d61"
      },
      "execution_count": null,
      "outputs": [
        {
          "output_type": "execute_result",
          "data": {
            "text/plain": [
              "                      Year                     Stage              Stadium  \\\n",
              "Datetime                                                                    \n",
              "13 Jul 1930 - 15:00   1930                   Group 1              Pocitos   \n",
              "13 Jul 1930 - 15:00   1930                   Group 4       Parque Central   \n",
              "14 Jul 1930 - 12:45   1930                   Group 2       Parque Central   \n",
              "14 Jul 1930 - 14:50   1930                   Group 3              Pocitos   \n",
              "15 Jul 1930 - 16:00   1930                   Group 1       Parque Central   \n",
              "...                    ...                       ...                  ...   \n",
              "05 Jul 2014 - 17:00   2014            Quarter-finals     Arena Fonte Nova   \n",
              "08 Jul 2014 - 17:00   2014               Semi-finals     Estadio Mineirao   \n",
              "09 Jul 2014 - 17:00   2014               Semi-finals   Arena de Sao Paulo   \n",
              "12 Jul 2014 - 17:00   2014  Play-off for third place     Estadio Nacional   \n",
              "13 Jul 2014 - 16:00   2014                     Final  Estadio do Maracana   \n",
              "\n",
              "                                 City Home Team Name  Home Team Goals  \\\n",
              "Datetime                                                                \n",
              "13 Jul 1930 - 15:00       Montevideo          France                4   \n",
              "13 Jul 1930 - 15:00       Montevideo             USA                3   \n",
              "14 Jul 1930 - 12:45       Montevideo      Yugoslavia                2   \n",
              "14 Jul 1930 - 14:50       Montevideo         Romania                3   \n",
              "15 Jul 1930 - 16:00       Montevideo       Argentina                1   \n",
              "...                               ...            ...              ...   \n",
              "05 Jul 2014 - 17:00         Salvador     Netherlands                0   \n",
              "08 Jul 2014 - 17:00   Belo Horizonte          Brazil                1   \n",
              "09 Jul 2014 - 17:00        Sao Paulo     Netherlands                0   \n",
              "12 Jul 2014 - 17:00         Brasilia          Brazil                0   \n",
              "13 Jul 2014 - 16:00   Rio De Janeiro         Germany                1   \n",
              "\n",
              "                      Away Team Goals Away Team Name  \\\n",
              "Datetime                                               \n",
              "13 Jul 1930 - 15:00                 1         Mexico   \n",
              "13 Jul 1930 - 15:00                 0        Belgium   \n",
              "14 Jul 1930 - 12:45                 1         Brazil   \n",
              "14 Jul 1930 - 14:50                 1           Peru   \n",
              "15 Jul 1930 - 16:00                 0         France   \n",
              "...                               ...            ...   \n",
              "05 Jul 2014 - 17:00                 0     Costa Rica   \n",
              "08 Jul 2014 - 17:00                 7        Germany   \n",
              "09 Jul 2014 - 17:00                 0      Argentina   \n",
              "12 Jul 2014 - 17:00                 3    Netherlands   \n",
              "13 Jul 2014 - 16:00                 0      Argentina   \n",
              "\n",
              "                                             Win conditions  Attendance  \\\n",
              "Datetime                                                                  \n",
              "13 Jul 1930 - 15:00                                              4444.0   \n",
              "13 Jul 1930 - 15:00                                             18346.0   \n",
              "14 Jul 1930 - 12:45                                             24059.0   \n",
              "14 Jul 1930 - 14:50                                              2549.0   \n",
              "15 Jul 1930 - 16:00                                             23409.0   \n",
              "...                                                     ...         ...   \n",
              "05 Jul 2014 - 17:00   Netherlands win on penalties (4 - 3)      51179.0   \n",
              "08 Jul 2014 - 17:00                                             58141.0   \n",
              "09 Jul 2014 - 17:00     Argentina win on penalties (2 - 4)      63267.0   \n",
              "12 Jul 2014 - 17:00                                             68034.0   \n",
              "13 Jul 2014 - 16:00           Germany win after extra time      74738.0   \n",
              "\n",
              "                      Half-time Home Goals  Half-time Away Goals  \\\n",
              "Datetime                                                           \n",
              "13 Jul 1930 - 15:00                      3                     0   \n",
              "13 Jul 1930 - 15:00                      2                     0   \n",
              "14 Jul 1930 - 12:45                      2                     0   \n",
              "14 Jul 1930 - 14:50                      1                     0   \n",
              "15 Jul 1930 - 16:00                      0                     0   \n",
              "...                                    ...                   ...   \n",
              "05 Jul 2014 - 17:00                      0                     0   \n",
              "08 Jul 2014 - 17:00                      0                     5   \n",
              "09 Jul 2014 - 17:00                      0                     0   \n",
              "12 Jul 2014 - 17:00                      0                     2   \n",
              "13 Jul 2014 - 16:00                      0                     0   \n",
              "\n",
              "                                     Referee                  Assistant 1  \\\n",
              "Datetime                                                                    \n",
              "13 Jul 1930 - 15:00   LOMBARDI Domingo (URU)        CRISTOPHE Henry (BEL)   \n",
              "13 Jul 1930 - 15:00        MACIAS Jose (ARG)     MATEUCCI Francisco (URU)   \n",
              "14 Jul 1930 - 12:45      TEJADA Anibal (URU)      VALLARINO Ricardo (URU)   \n",
              "14 Jul 1930 - 14:50    WARNKEN Alberto (CHI)          LANGENUS Jean (BEL)   \n",
              "15 Jul 1930 - 16:00      REGO Gilberto (BRA)         SAUCEDO Ulises (BOL)   \n",
              "...                                      ...                          ...   \n",
              "05 Jul 2014 - 17:00    Ravshan IRMATOV (UZB)  RASULOV Abduxamidullo (UZB)   \n",
              "08 Jul 2014 - 17:00    RODRIGUEZ Marco (MEX)      TORRENTERA Marvin (MEX)   \n",
              "09 Jul 2014 - 17:00       C�neyt �AKIR (TUR)         DURAN Bahattin (TUR)   \n",
              "12 Jul 2014 - 17:00    HAIMOUDI Djamel (ALG)         ACHIK Redouane (MAR)   \n",
              "13 Jul 2014 - 16:00     Nicola RIZZOLI (ITA)        Renato FAVERANI (ITA)   \n",
              "\n",
              "                                     Assistant 2  RoundID    MatchID  \\\n",
              "Datetime                                                               \n",
              "13 Jul 1930 - 15:00          REGO Gilberto (BRA)      201       1096   \n",
              "13 Jul 1930 - 15:00        WARNKEN Alberto (CHI)      201       1090   \n",
              "14 Jul 1930 - 12:45          BALWAY Thomas (FRA)      201       1093   \n",
              "14 Jul 1930 - 14:50     MATEUCCI Francisco (URU)      201       1098   \n",
              "15 Jul 1930 - 16:00   RADULESCU Constantin (ROU)      201       1085   \n",
              "...                                          ...      ...        ...   \n",
              "05 Jul 2014 - 17:00     KOCHKAROV Bakhadyr (KGZ)   255953  300186488   \n",
              "08 Jul 2014 - 17:00        QUINTERO Marcos (MEX)   255955  300186474   \n",
              "09 Jul 2014 - 17:00            ONGUN Tarik (TUR)   255955  300186490   \n",
              "12 Jul 2014 - 17:00      ETCHIALI Abdelhak (ALG)   255957  300186502   \n",
              "13 Jul 2014 - 16:00         Andrea STEFANI (ITA)   255959  300186501   \n",
              "\n",
              "                     Home Team Initials Away Team Initials  \n",
              "Datetime                                                    \n",
              "13 Jul 1930 - 15:00                 FRA                MEX  \n",
              "13 Jul 1930 - 15:00                 USA                BEL  \n",
              "14 Jul 1930 - 12:45                 YUG                BRA  \n",
              "14 Jul 1930 - 14:50                 ROU                PER  \n",
              "15 Jul 1930 - 16:00                 ARG                FRA  \n",
              "...                                 ...                ...  \n",
              "05 Jul 2014 - 17:00                 NED                CRC  \n",
              "08 Jul 2014 - 17:00                 BRA                GER  \n",
              "09 Jul 2014 - 17:00                 NED                ARG  \n",
              "12 Jul 2014 - 17:00                 BRA                NED  \n",
              "13 Jul 2014 - 16:00                 GER                ARG  \n",
              "\n",
              "[850 rows x 19 columns]"
            ],
            "text/html": [
              "\n",
              "  <div id=\"df-62e06c2b-d3ec-455e-8354-9c98bcf44ac5\">\n",
              "    <div class=\"colab-df-container\">\n",
              "      <div>\n",
              "<style scoped>\n",
              "    .dataframe tbody tr th:only-of-type {\n",
              "        vertical-align: middle;\n",
              "    }\n",
              "\n",
              "    .dataframe tbody tr th {\n",
              "        vertical-align: top;\n",
              "    }\n",
              "\n",
              "    .dataframe thead th {\n",
              "        text-align: right;\n",
              "    }\n",
              "</style>\n",
              "<table border=\"1\" class=\"dataframe\">\n",
              "  <thead>\n",
              "    <tr style=\"text-align: right;\">\n",
              "      <th></th>\n",
              "      <th>Year</th>\n",
              "      <th>Stage</th>\n",
              "      <th>Stadium</th>\n",
              "      <th>City</th>\n",
              "      <th>Home Team Name</th>\n",
              "      <th>Home Team Goals</th>\n",
              "      <th>Away Team Goals</th>\n",
              "      <th>Away Team Name</th>\n",
              "      <th>Win conditions</th>\n",
              "      <th>Attendance</th>\n",
              "      <th>Half-time Home Goals</th>\n",
              "      <th>Half-time Away Goals</th>\n",
              "      <th>Referee</th>\n",
              "      <th>Assistant 1</th>\n",
              "      <th>Assistant 2</th>\n",
              "      <th>RoundID</th>\n",
              "      <th>MatchID</th>\n",
              "      <th>Home Team Initials</th>\n",
              "      <th>Away Team Initials</th>\n",
              "    </tr>\n",
              "    <tr>\n",
              "      <th>Datetime</th>\n",
              "      <th></th>\n",
              "      <th></th>\n",
              "      <th></th>\n",
              "      <th></th>\n",
              "      <th></th>\n",
              "      <th></th>\n",
              "      <th></th>\n",
              "      <th></th>\n",
              "      <th></th>\n",
              "      <th></th>\n",
              "      <th></th>\n",
              "      <th></th>\n",
              "      <th></th>\n",
              "      <th></th>\n",
              "      <th></th>\n",
              "      <th></th>\n",
              "      <th></th>\n",
              "      <th></th>\n",
              "      <th></th>\n",
              "    </tr>\n",
              "  </thead>\n",
              "  <tbody>\n",
              "    <tr>\n",
              "      <th>13 Jul 1930 - 15:00</th>\n",
              "      <td>1930</td>\n",
              "      <td>Group 1</td>\n",
              "      <td>Pocitos</td>\n",
              "      <td>Montevideo</td>\n",
              "      <td>France</td>\n",
              "      <td>4</td>\n",
              "      <td>1</td>\n",
              "      <td>Mexico</td>\n",
              "      <td></td>\n",
              "      <td>4444.0</td>\n",
              "      <td>3</td>\n",
              "      <td>0</td>\n",
              "      <td>LOMBARDI Domingo (URU)</td>\n",
              "      <td>CRISTOPHE Henry (BEL)</td>\n",
              "      <td>REGO Gilberto (BRA)</td>\n",
              "      <td>201</td>\n",
              "      <td>1096</td>\n",
              "      <td>FRA</td>\n",
              "      <td>MEX</td>\n",
              "    </tr>\n",
              "    <tr>\n",
              "      <th>13 Jul 1930 - 15:00</th>\n",
              "      <td>1930</td>\n",
              "      <td>Group 4</td>\n",
              "      <td>Parque Central</td>\n",
              "      <td>Montevideo</td>\n",
              "      <td>USA</td>\n",
              "      <td>3</td>\n",
              "      <td>0</td>\n",
              "      <td>Belgium</td>\n",
              "      <td></td>\n",
              "      <td>18346.0</td>\n",
              "      <td>2</td>\n",
              "      <td>0</td>\n",
              "      <td>MACIAS Jose (ARG)</td>\n",
              "      <td>MATEUCCI Francisco (URU)</td>\n",
              "      <td>WARNKEN Alberto (CHI)</td>\n",
              "      <td>201</td>\n",
              "      <td>1090</td>\n",
              "      <td>USA</td>\n",
              "      <td>BEL</td>\n",
              "    </tr>\n",
              "    <tr>\n",
              "      <th>14 Jul 1930 - 12:45</th>\n",
              "      <td>1930</td>\n",
              "      <td>Group 2</td>\n",
              "      <td>Parque Central</td>\n",
              "      <td>Montevideo</td>\n",
              "      <td>Yugoslavia</td>\n",
              "      <td>2</td>\n",
              "      <td>1</td>\n",
              "      <td>Brazil</td>\n",
              "      <td></td>\n",
              "      <td>24059.0</td>\n",
              "      <td>2</td>\n",
              "      <td>0</td>\n",
              "      <td>TEJADA Anibal (URU)</td>\n",
              "      <td>VALLARINO Ricardo (URU)</td>\n",
              "      <td>BALWAY Thomas (FRA)</td>\n",
              "      <td>201</td>\n",
              "      <td>1093</td>\n",
              "      <td>YUG</td>\n",
              "      <td>BRA</td>\n",
              "    </tr>\n",
              "    <tr>\n",
              "      <th>14 Jul 1930 - 14:50</th>\n",
              "      <td>1930</td>\n",
              "      <td>Group 3</td>\n",
              "      <td>Pocitos</td>\n",
              "      <td>Montevideo</td>\n",
              "      <td>Romania</td>\n",
              "      <td>3</td>\n",
              "      <td>1</td>\n",
              "      <td>Peru</td>\n",
              "      <td></td>\n",
              "      <td>2549.0</td>\n",
              "      <td>1</td>\n",
              "      <td>0</td>\n",
              "      <td>WARNKEN Alberto (CHI)</td>\n",
              "      <td>LANGENUS Jean (BEL)</td>\n",
              "      <td>MATEUCCI Francisco (URU)</td>\n",
              "      <td>201</td>\n",
              "      <td>1098</td>\n",
              "      <td>ROU</td>\n",
              "      <td>PER</td>\n",
              "    </tr>\n",
              "    <tr>\n",
              "      <th>15 Jul 1930 - 16:00</th>\n",
              "      <td>1930</td>\n",
              "      <td>Group 1</td>\n",
              "      <td>Parque Central</td>\n",
              "      <td>Montevideo</td>\n",
              "      <td>Argentina</td>\n",
              "      <td>1</td>\n",
              "      <td>0</td>\n",
              "      <td>France</td>\n",
              "      <td></td>\n",
              "      <td>23409.0</td>\n",
              "      <td>0</td>\n",
              "      <td>0</td>\n",
              "      <td>REGO Gilberto (BRA)</td>\n",
              "      <td>SAUCEDO Ulises (BOL)</td>\n",
              "      <td>RADULESCU Constantin (ROU)</td>\n",
              "      <td>201</td>\n",
              "      <td>1085</td>\n",
              "      <td>ARG</td>\n",
              "      <td>FRA</td>\n",
              "    </tr>\n",
              "    <tr>\n",
              "      <th>...</th>\n",
              "      <td>...</td>\n",
              "      <td>...</td>\n",
              "      <td>...</td>\n",
              "      <td>...</td>\n",
              "      <td>...</td>\n",
              "      <td>...</td>\n",
              "      <td>...</td>\n",
              "      <td>...</td>\n",
              "      <td>...</td>\n",
              "      <td>...</td>\n",
              "      <td>...</td>\n",
              "      <td>...</td>\n",
              "      <td>...</td>\n",
              "      <td>...</td>\n",
              "      <td>...</td>\n",
              "      <td>...</td>\n",
              "      <td>...</td>\n",
              "      <td>...</td>\n",
              "      <td>...</td>\n",
              "    </tr>\n",
              "    <tr>\n",
              "      <th>05 Jul 2014 - 17:00</th>\n",
              "      <td>2014</td>\n",
              "      <td>Quarter-finals</td>\n",
              "      <td>Arena Fonte Nova</td>\n",
              "      <td>Salvador</td>\n",
              "      <td>Netherlands</td>\n",
              "      <td>0</td>\n",
              "      <td>0</td>\n",
              "      <td>Costa Rica</td>\n",
              "      <td>Netherlands win on penalties (4 - 3)</td>\n",
              "      <td>51179.0</td>\n",
              "      <td>0</td>\n",
              "      <td>0</td>\n",
              "      <td>Ravshan IRMATOV (UZB)</td>\n",
              "      <td>RASULOV Abduxamidullo (UZB)</td>\n",
              "      <td>KOCHKAROV Bakhadyr (KGZ)</td>\n",
              "      <td>255953</td>\n",
              "      <td>300186488</td>\n",
              "      <td>NED</td>\n",
              "      <td>CRC</td>\n",
              "    </tr>\n",
              "    <tr>\n",
              "      <th>08 Jul 2014 - 17:00</th>\n",
              "      <td>2014</td>\n",
              "      <td>Semi-finals</td>\n",
              "      <td>Estadio Mineirao</td>\n",
              "      <td>Belo Horizonte</td>\n",
              "      <td>Brazil</td>\n",
              "      <td>1</td>\n",
              "      <td>7</td>\n",
              "      <td>Germany</td>\n",
              "      <td></td>\n",
              "      <td>58141.0</td>\n",
              "      <td>0</td>\n",
              "      <td>5</td>\n",
              "      <td>RODRIGUEZ Marco (MEX)</td>\n",
              "      <td>TORRENTERA Marvin (MEX)</td>\n",
              "      <td>QUINTERO Marcos (MEX)</td>\n",
              "      <td>255955</td>\n",
              "      <td>300186474</td>\n",
              "      <td>BRA</td>\n",
              "      <td>GER</td>\n",
              "    </tr>\n",
              "    <tr>\n",
              "      <th>09 Jul 2014 - 17:00</th>\n",
              "      <td>2014</td>\n",
              "      <td>Semi-finals</td>\n",
              "      <td>Arena de Sao Paulo</td>\n",
              "      <td>Sao Paulo</td>\n",
              "      <td>Netherlands</td>\n",
              "      <td>0</td>\n",
              "      <td>0</td>\n",
              "      <td>Argentina</td>\n",
              "      <td>Argentina win on penalties (2 - 4)</td>\n",
              "      <td>63267.0</td>\n",
              "      <td>0</td>\n",
              "      <td>0</td>\n",
              "      <td>C�neyt �AKIR (TUR)</td>\n",
              "      <td>DURAN Bahattin (TUR)</td>\n",
              "      <td>ONGUN Tarik (TUR)</td>\n",
              "      <td>255955</td>\n",
              "      <td>300186490</td>\n",
              "      <td>NED</td>\n",
              "      <td>ARG</td>\n",
              "    </tr>\n",
              "    <tr>\n",
              "      <th>12 Jul 2014 - 17:00</th>\n",
              "      <td>2014</td>\n",
              "      <td>Play-off for third place</td>\n",
              "      <td>Estadio Nacional</td>\n",
              "      <td>Brasilia</td>\n",
              "      <td>Brazil</td>\n",
              "      <td>0</td>\n",
              "      <td>3</td>\n",
              "      <td>Netherlands</td>\n",
              "      <td></td>\n",
              "      <td>68034.0</td>\n",
              "      <td>0</td>\n",
              "      <td>2</td>\n",
              "      <td>HAIMOUDI Djamel (ALG)</td>\n",
              "      <td>ACHIK Redouane (MAR)</td>\n",
              "      <td>ETCHIALI Abdelhak (ALG)</td>\n",
              "      <td>255957</td>\n",
              "      <td>300186502</td>\n",
              "      <td>BRA</td>\n",
              "      <td>NED</td>\n",
              "    </tr>\n",
              "    <tr>\n",
              "      <th>13 Jul 2014 - 16:00</th>\n",
              "      <td>2014</td>\n",
              "      <td>Final</td>\n",
              "      <td>Estadio do Maracana</td>\n",
              "      <td>Rio De Janeiro</td>\n",
              "      <td>Germany</td>\n",
              "      <td>1</td>\n",
              "      <td>0</td>\n",
              "      <td>Argentina</td>\n",
              "      <td>Germany win after extra time</td>\n",
              "      <td>74738.0</td>\n",
              "      <td>0</td>\n",
              "      <td>0</td>\n",
              "      <td>Nicola RIZZOLI (ITA)</td>\n",
              "      <td>Renato FAVERANI (ITA)</td>\n",
              "      <td>Andrea STEFANI (ITA)</td>\n",
              "      <td>255959</td>\n",
              "      <td>300186501</td>\n",
              "      <td>GER</td>\n",
              "      <td>ARG</td>\n",
              "    </tr>\n",
              "  </tbody>\n",
              "</table>\n",
              "<p>850 rows × 19 columns</p>\n",
              "</div>\n",
              "      <button class=\"colab-df-convert\" onclick=\"convertToInteractive('df-62e06c2b-d3ec-455e-8354-9c98bcf44ac5')\"\n",
              "              title=\"Convert this dataframe to an interactive table.\"\n",
              "              style=\"display:none;\">\n",
              "        \n",
              "  <svg xmlns=\"http://www.w3.org/2000/svg\" height=\"24px\"viewBox=\"0 0 24 24\"\n",
              "       width=\"24px\">\n",
              "    <path d=\"M0 0h24v24H0V0z\" fill=\"none\"/>\n",
              "    <path d=\"M18.56 5.44l.94 2.06.94-2.06 2.06-.94-2.06-.94-.94-2.06-.94 2.06-2.06.94zm-11 1L8.5 8.5l.94-2.06 2.06-.94-2.06-.94L8.5 2.5l-.94 2.06-2.06.94zm10 10l.94 2.06.94-2.06 2.06-.94-2.06-.94-.94-2.06-.94 2.06-2.06.94z\"/><path d=\"M17.41 7.96l-1.37-1.37c-.4-.4-.92-.59-1.43-.59-.52 0-1.04.2-1.43.59L10.3 9.45l-7.72 7.72c-.78.78-.78 2.05 0 2.83L4 21.41c.39.39.9.59 1.41.59.51 0 1.02-.2 1.41-.59l7.78-7.78 2.81-2.81c.8-.78.8-2.07 0-2.86zM5.41 20L4 18.59l7.72-7.72 1.47 1.35L5.41 20z\"/>\n",
              "  </svg>\n",
              "      </button>\n",
              "      \n",
              "  <style>\n",
              "    .colab-df-container {\n",
              "      display:flex;\n",
              "      flex-wrap:wrap;\n",
              "      gap: 12px;\n",
              "    }\n",
              "\n",
              "    .colab-df-convert {\n",
              "      background-color: #E8F0FE;\n",
              "      border: none;\n",
              "      border-radius: 50%;\n",
              "      cursor: pointer;\n",
              "      display: none;\n",
              "      fill: #1967D2;\n",
              "      height: 32px;\n",
              "      padding: 0 0 0 0;\n",
              "      width: 32px;\n",
              "    }\n",
              "\n",
              "    .colab-df-convert:hover {\n",
              "      background-color: #E2EBFA;\n",
              "      box-shadow: 0px 1px 2px rgba(60, 64, 67, 0.3), 0px 1px 3px 1px rgba(60, 64, 67, 0.15);\n",
              "      fill: #174EA6;\n",
              "    }\n",
              "\n",
              "    [theme=dark] .colab-df-convert {\n",
              "      background-color: #3B4455;\n",
              "      fill: #D2E3FC;\n",
              "    }\n",
              "\n",
              "    [theme=dark] .colab-df-convert:hover {\n",
              "      background-color: #434B5C;\n",
              "      box-shadow: 0px 1px 3px 1px rgba(0, 0, 0, 0.15);\n",
              "      filter: drop-shadow(0px 1px 2px rgba(0, 0, 0, 0.3));\n",
              "      fill: #FFFFFF;\n",
              "    }\n",
              "  </style>\n",
              "\n",
              "      <script>\n",
              "        const buttonEl =\n",
              "          document.querySelector('#df-62e06c2b-d3ec-455e-8354-9c98bcf44ac5 button.colab-df-convert');\n",
              "        buttonEl.style.display =\n",
              "          google.colab.kernel.accessAllowed ? 'block' : 'none';\n",
              "\n",
              "        async function convertToInteractive(key) {\n",
              "          const element = document.querySelector('#df-62e06c2b-d3ec-455e-8354-9c98bcf44ac5');\n",
              "          const dataTable =\n",
              "            await google.colab.kernel.invokeFunction('convertToInteractive',\n",
              "                                                     [key], {});\n",
              "          if (!dataTable) return;\n",
              "\n",
              "          const docLinkHtml = 'Like what you see? Visit the ' +\n",
              "            '<a target=\"_blank\" href=https://colab.research.google.com/notebooks/data_table.ipynb>data table notebook</a>'\n",
              "            + ' to learn more about interactive tables.';\n",
              "          element.innerHTML = '';\n",
              "          dataTable['output_type'] = 'display_data';\n",
              "          await google.colab.output.renderOutput(dataTable, element);\n",
              "          const docLink = document.createElement('div');\n",
              "          docLink.innerHTML = docLinkHtml;\n",
              "          element.appendChild(docLink);\n",
              "        }\n",
              "      </script>\n",
              "    </div>\n",
              "  </div>\n",
              "  "
            ]
          },
          "metadata": {},
          "execution_count": 26
        }
      ]
    },
    {
      "cell_type": "code",
      "source": [
        "# drop rows with missing values\n",
        "dataset.dropna(inplace=True)\n",
        "dataset.shape"
      ],
      "metadata": {
        "colab": {
          "base_uri": "https://localhost:8080/"
        },
        "id": "cxopFr5la1Yq",
        "outputId": "c1456545-3640-4ee5-b74f-5e31e960681b"
      },
      "execution_count": null,
      "outputs": [
        {
          "output_type": "execute_result",
          "data": {
            "text/plain": [
              "(850, 19)"
            ]
          },
          "metadata": {},
          "execution_count": 25
        }
      ]
    },
    {
      "cell_type": "code",
      "source": [
        "# using imputer class\n",
        "from sklearn.impute import SimpleImputer\n",
        "data = np.array([[1, np.nan, 2], [2, 3, np.nan], [-1, 4, 2]])\n"
      ],
      "metadata": {
        "id": "mB3sCXDXHi6J"
      },
      "execution_count": null,
      "outputs": []
    },
    {
      "cell_type": "code",
      "source": [
        "data"
      ],
      "metadata": {
        "colab": {
          "base_uri": "https://localhost:8080/"
        },
        "id": "C9LH8izaIoeL",
        "outputId": "1923215b-1b89-4981-f8ad-ede18b861779"
      },
      "execution_count": null,
      "outputs": [
        {
          "output_type": "execute_result",
          "data": {
            "text/plain": [
              "array([[ 1., nan,  2.],\n",
              "       [ 2.,  3., nan],\n",
              "       [-1.,  4.,  2.]])"
            ]
          },
          "metadata": {},
          "execution_count": 31
        }
      ]
    },
    {
      "cell_type": "code",
      "source": [
        "imp = SimpleImputer(strategy='mean')\n",
        "imp.fit_transform(data)"
      ],
      "metadata": {
        "colab": {
          "base_uri": "https://localhost:8080/"
        },
        "id": "yJED3dDoIvpT",
        "outputId": "8c758bec-5559-4a4d-84a0-8179478a94bf"
      },
      "execution_count": null,
      "outputs": [
        {
          "output_type": "execute_result",
          "data": {
            "text/plain": [
              "array([[ 1. ,  3.5,  2. ],\n",
              "       [ 2. ,  3. ,  2. ],\n",
              "       [-1. ,  4. ,  2. ]])"
            ]
          },
          "metadata": {},
          "execution_count": 32
        }
      ]
    },
    {
      "cell_type": "code",
      "source": [
        "imp = SimpleImputer(strategy='median')\n",
        "imp.fit_transform(data)"
      ],
      "metadata": {
        "colab": {
          "base_uri": "https://localhost:8080/"
        },
        "id": "PbAgw0SzJISs",
        "outputId": "2b4e2b0a-d979-456d-dbd0-21bc001f1069"
      },
      "execution_count": null,
      "outputs": [
        {
          "output_type": "execute_result",
          "data": {
            "text/plain": [
              "array([[ 1. ,  3.5,  2. ],\n",
              "       [ 2. ,  3. ,  2. ],\n",
              "       [-1. ,  4. ,  2. ]])"
            ]
          },
          "metadata": {},
          "execution_count": 33
        }
      ]
    },
    {
      "cell_type": "code",
      "source": [
        "imp = SimpleImputer(strategy='most_frequent')\n",
        "imp.fit_transform(data)"
      ],
      "metadata": {
        "colab": {
          "base_uri": "https://localhost:8080/"
        },
        "id": "OJFGUYcwJPza",
        "outputId": "d8771062-a5af-4c52-d186-317ed59f5324"
      },
      "execution_count": null,
      "outputs": [
        {
          "output_type": "execute_result",
          "data": {
            "text/plain": [
              "array([[ 1.,  3.,  2.],\n",
              "       [ 2.,  3.,  2.],\n",
              "       [-1.,  4.,  2.]])"
            ]
          },
          "metadata": {},
          "execution_count": 34
        }
      ]
    },
    {
      "cell_type": "code",
      "source": [
        "dataset[\"Year\"].mean()"
      ],
      "metadata": {
        "colab": {
          "base_uri": "https://localhost:8080/"
        },
        "id": "adOQjmzJJZB8",
        "outputId": "8b6f7ed2-b20a-4433-bee1-562e82b55db7"
      },
      "execution_count": null,
      "outputs": [
        {
          "output_type": "execute_result",
          "data": {
            "text/plain": [
              "1985.0211764705882"
            ]
          },
          "metadata": {},
          "execution_count": 35
        }
      ]
    },
    {
      "cell_type": "code",
      "source": [
        "dataset[\"Year\"].tail()"
      ],
      "metadata": {
        "colab": {
          "base_uri": "https://localhost:8080/"
        },
        "id": "y0XBaL-zJcaK",
        "outputId": "1aaccbde-11d0-4cea-d9c8-073a1fefbed2"
      },
      "execution_count": null,
      "outputs": [
        {
          "output_type": "execute_result",
          "data": {
            "text/plain": [
              "Datetime\n",
              "05 Jul 2014 - 17:00     2014\n",
              "08 Jul 2014 - 17:00     2014\n",
              "09 Jul 2014 - 17:00     2014\n",
              "12 Jul 2014 - 17:00     2014\n",
              "13 Jul 2014 - 16:00     2014\n",
              "Name: Year, dtype: int64"
            ]
          },
          "metadata": {},
          "execution_count": 36
        }
      ]
    },
    {
      "cell_type": "code",
      "source": [
        "dataset[\"Year\"].replace(np.NaN,dataset[\"Year\"].mean)"
      ],
      "metadata": {
        "colab": {
          "base_uri": "https://localhost:8080/"
        },
        "id": "_qMilMZQJf0R",
        "outputId": "a7ddc216-9ecf-4c04-df73-0412e817504a"
      },
      "execution_count": null,
      "outputs": [
        {
          "output_type": "execute_result",
          "data": {
            "text/plain": [
              "Datetime\n",
              "13 Jul 1930 - 15:00     1930\n",
              "13 Jul 1930 - 15:00     1930\n",
              "14 Jul 1930 - 12:45     1930\n",
              "14 Jul 1930 - 14:50     1930\n",
              "15 Jul 1930 - 16:00     1930\n",
              "                        ... \n",
              "05 Jul 2014 - 17:00     2014\n",
              "08 Jul 2014 - 17:00     2014\n",
              "09 Jul 2014 - 17:00     2014\n",
              "12 Jul 2014 - 17:00     2014\n",
              "13 Jul 2014 - 16:00     2014\n",
              "Name: Year, Length: 850, dtype: int64"
            ]
          },
          "metadata": {},
          "execution_count": 37
        }
      ]
    },
    {
      "cell_type": "code",
      "source": [
        "import numpy as np\n",
        "X = np.random.uniform(0.0, 1.0, size=(10, 2))\n",
        "Y = np.random.choice(('Male','Female'), size=(10))\n",
        "X[0]"
      ],
      "metadata": {
        "colab": {
          "base_uri": "https://localhost:8080/"
        },
        "id": "jYY1VJQ5Jlgs",
        "outputId": "583d646c-0afa-4283-d942-93479dd4ccee"
      },
      "execution_count": null,
      "outputs": [
        {
          "output_type": "execute_result",
          "data": {
            "text/plain": [
              "array([0.6818948 , 0.92571904])"
            ]
          },
          "metadata": {},
          "execution_count": 38
        }
      ]
    },
    {
      "cell_type": "code",
      "source": [
        "from sklearn.preprocessing import LabelEncoder\n",
        "le = LabelEncoder()\n",
        "yt = le.fit_transform(Y)\n",
        "yt"
      ],
      "metadata": {
        "colab": {
          "base_uri": "https://localhost:8080/"
        },
        "id": "HG7wpPCSJt7_",
        "outputId": "05d67914-0346-4f49-bd84-5fc91020b60d"
      },
      "execution_count": null,
      "outputs": [
        {
          "output_type": "execute_result",
          "data": {
            "text/plain": [
              "array([1, 1, 0, 1, 0, 0, 1, 1, 1, 1])"
            ]
          },
          "metadata": {},
          "execution_count": 42
        }
      ]
    },
    {
      "cell_type": "code",
      "source": [
        "output = [1, 0, 1, 1, 0, 0]"
      ],
      "metadata": {
        "id": "V-DRN6YAKJvt"
      },
      "execution_count": null,
      "outputs": []
    },
    {
      "cell_type": "code",
      "source": [
        "decoded_output = [le.classes_[i] for i in output]"
      ],
      "metadata": {
        "id": "O-OmR2-lKVyx"
      },
      "execution_count": 62,
      "outputs": []
    },
    {
      "cell_type": "code",
      "source": [
        "decoded_output"
      ],
      "metadata": {
        "colab": {
          "base_uri": "https://localhost:8080/"
        },
        "id": "2oh7ne-VKauR",
        "outputId": "ab2e98a9-b5bf-44d8-93a7-7e1b1b6151a1"
      },
      "execution_count": null,
      "outputs": [
        {
          "output_type": "execute_result",
          "data": {
            "text/plain": [
              "['Male', 'Female', 'Male', 'Male', 'Female', 'Female']"
            ]
          },
          "metadata": {},
          "execution_count": 45
        }
      ]
    },
    {
      "cell_type": "code",
      "source": [
        "#one-hot encoding using LabelBinarizer class\n",
        "from sklearn.preprocessing import LabelBinarizer\n",
        "lb = LabelBinarizer()\n",
        "Yb = lb.fit_transform(Y)"
      ],
      "metadata": {
        "id": "CmlkgJzZKc3t"
      },
      "execution_count": null,
      "outputs": []
    },
    {
      "cell_type": "code",
      "source": [
        "Yb"
      ],
      "metadata": {
        "colab": {
          "base_uri": "https://localhost:8080/"
        },
        "id": "Y3ssdR4cKg9G",
        "outputId": "fdc4bdc5-25a6-422a-e66b-2b176d29a45c"
      },
      "execution_count": null,
      "outputs": [
        {
          "output_type": "execute_result",
          "data": {
            "text/plain": [
              "array([[1],\n",
              "       [1],\n",
              "       [0],\n",
              "       [1],\n",
              "       [0],\n",
              "       [0],\n",
              "       [1],\n",
              "       [1],\n",
              "       [1],\n",
              "       [1]])"
            ]
          },
          "metadata": {},
          "execution_count": 47
        }
      ]
    },
    {
      "cell_type": "code",
      "source": [
        "lb.inverse_transform(Yb)"
      ],
      "metadata": {
        "colab": {
          "base_uri": "https://localhost:8080/"
        },
        "id": "0qofkjZ8Kk7U",
        "outputId": "9bfd6357-a96d-44ae-bacd-c14e228a4f71"
      },
      "execution_count": null,
      "outputs": [
        {
          "output_type": "execute_result",
          "data": {
            "text/plain": [
              "array(['Male', 'Male', 'Female', 'Male', 'Female', 'Female', 'Male',\n",
              "       'Male', 'Male', 'Male'], dtype='<U6')"
            ]
          },
          "metadata": {},
          "execution_count": 48
        }
      ]
    },
    {
      "cell_type": "code",
      "source": [
        "from sklearn.preprocessing import OneHotEncoder\n",
        "data =[\n",
        "[0, 10],\n",
        "[1, 11],\n",
        "[1, 8],\n",
        "[0, 12],\n",
        "[0, 15]\n",
        "]"
      ],
      "metadata": {
        "id": "w2eZhalaKne2"
      },
      "execution_count": null,
      "outputs": []
    },
    {
      "cell_type": "code",
      "source": [
        "data"
      ],
      "metadata": {
        "colab": {
          "base_uri": "https://localhost:8080/"
        },
        "id": "012iaOF5KtWS",
        "outputId": "c35c2498-8a47-42e8-da99-9d57e87d366c"
      },
      "execution_count": null,
      "outputs": [
        {
          "output_type": "execute_result",
          "data": {
            "text/plain": [
              "[[0, 10], [1, 11], [1, 8], [0, 12], [0, 15]]"
            ]
          },
          "metadata": {},
          "execution_count": 50
        }
      ]
    },
    {
      "cell_type": "code",
      "source": [
        "from sklearn.preprocessing import LabelEncoder, OneHotEncoder\n",
        "from sklearn.compose import ColumnTransformer\n",
        "from sklearn.compose import ColumnTransformer \n",
        "oh =  ColumnTransformer( [('one_hot_encoder', OneHotEncoder(), [0])], remainder='passthrough')\n",
        "Y_oh = oh.fit_transform(data)\n",
        "#Y_oh.todense()"
      ],
      "metadata": {
        "id": "DjgItY8kKwVj"
      },
      "execution_count": null,
      "outputs": []
    },
    {
      "cell_type": "code",
      "source": [
        ""
      ],
      "metadata": {
        "id": "gRHkjbMGNKSH"
      },
      "execution_count": null,
      "outputs": []
    }
  ]
}